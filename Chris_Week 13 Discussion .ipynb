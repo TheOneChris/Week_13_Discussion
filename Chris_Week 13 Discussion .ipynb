{
 "cells": [
  {
   "cell_type": "markdown",
   "id": "53f92377",
   "metadata": {},
   "source": [
    "The website I choose is Steampowered.com it is a PC video game selling platform. It is free for anyone to sign up, use, and download. It offers both free and paid video games and is intended for anyone 13 years of age or older. Millions of people all over the world use Steampowered to purchase, download, and play video games on PC. It is the best video game selling platform and has recently expanded into software in general allowing users to purchase coding software, 3D modeling software, and much more. Usually, Steampowered doesn't remove any software unless reported, extremely disliked, or even is commpletely inactive.\n",
    "\n",
    "1.Who are your users?\n",
    "\n",
    "The users are the people who signed up for Steampowered and use the platform.\n",
    "\n",
    "2.What are their key goals?\n",
    "\n",
    "There goal is find video games or software they want to use or play, and then purchase and download it\n",
    "\n",
    "3.How can you help them accomplish those goals?\n",
    "\n",
    "Users including myself can help other users accomplish their goals by providing recommendations, reviews, and ratings for each software. Also by using databases of software that are similar to user purchased software or games to provide them to specfic user recommendations."
   ]
  },
  {
   "cell_type": "code",
   "execution_count": null,
   "id": "a4c623bd",
   "metadata": {},
   "outputs": [],
   "source": []
  }
 ],
 "metadata": {
  "kernelspec": {
   "display_name": "Python 3",
   "language": "python",
   "name": "python3"
  },
  "language_info": {
   "codemirror_mode": {
    "name": "ipython",
    "version": 3
   },
   "file_extension": ".py",
   "mimetype": "text/x-python",
   "name": "python",
   "nbconvert_exporter": "python",
   "pygments_lexer": "ipython3",
   "version": "3.8.8"
  }
 },
 "nbformat": 4,
 "nbformat_minor": 5
}
